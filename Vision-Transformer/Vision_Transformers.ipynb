{
  "nbformat": 4,
  "nbformat_minor": 0,
  "metadata": {
    "colab": {
      "name": "Vision-Transformers.ipynb",
      "provenance": [],
      "collapsed_sections": [],
      "toc_visible": true
    },
    "kernelspec": {
      "name": "python3",
      "display_name": "Python 3"
    },
    "accelerator": "GPU"
  },
  "cells": [
    {
      "cell_type": "markdown",
      "metadata": {
        "id": "WY6svVsdEtUp"
      },
      "source": [
        "# Imports\n"
      ]
    },
    {
      "cell_type": "code",
      "metadata": {
        "colab": {
          "base_uri": "https://localhost:8080/"
        },
        "id": "jy5NOq1Ct_ER",
        "outputId": "6db54b6a-dbb0-47b2-d7ee-3cd2e71b98a5"
      },
      "source": [
        "from google.colab import drive\n",
        "drive.mount('/content/gdrive')"
      ],
      "execution_count": null,
      "outputs": [
        {
          "output_type": "stream",
          "text": [
            "Drive already mounted at /content/gdrive; to attempt to forcibly remount, call drive.mount(\"/content/gdrive\", force_remount=True).\n"
          ],
          "name": "stdout"
        }
      ]
    },
    {
      "cell_type": "code",
      "metadata": {
        "colab": {
          "base_uri": "https://localhost:8080/"
        },
        "id": "pWVmRk_Kw9KM",
        "outputId": "ee5d0ddb-7aee-47dc-8ae8-419c71c5ce31"
      },
      "source": [
        "mkdir /content/gdrive/MyDrive/vis"
      ],
      "execution_count": null,
      "outputs": [
        {
          "output_type": "stream",
          "text": [
            "mkdir: cannot create directory ‘/content/gdrive/MyDrive/vis’: File exists\n"
          ],
          "name": "stdout"
        }
      ]
    },
    {
      "cell_type": "code",
      "metadata": {
        "id": "VXKf9Il5YU1L"
      },
      "source": [
        "!pip install -q -U tensorflow-hub tensorflow-text tensorflow-addons"
      ],
      "execution_count": null,
      "outputs": []
    },
    {
      "cell_type": "code",
      "metadata": {
        "id": "1EgzT4MvB3PH"
      },
      "source": [
        "import os\n",
        "import collections\n",
        "import json\n",
        "import numpy as np\n",
        "import tensorflow as tf\n",
        "from tensorflow import keras\n",
        "from tensorflow.keras import layers\n",
        "import tensorflow_hub as hub\n",
        "import tensorflow_text as text\n",
        "import tensorflow_addons as tfa\n",
        "import matplotlib.pyplot as plt\n",
        "import matplotlib.image as mpimg\n",
        "from tqdm import tqdm"
      ],
      "execution_count": null,
      "outputs": []
    },
    {
      "cell_type": "markdown",
      "metadata": {
        "id": "KT746Z0PG43i"
      },
      "source": [
        "Downloading Datasets"
      ]
    },
    {
      "cell_type": "code",
      "metadata": {
        "id": "MPJhskgsG39n",
        "colab": {
          "base_uri": "https://localhost:8080/"
        },
        "outputId": "f7abc965-bea9-4d9d-e00d-2f92a0747bbe"
      },
      "source": [
        "root_dir=\"datasets\"\n",
        "annotations_dir=os.path.join(root_dir,\"annotations\")\n",
        "images_dir=os.path.join(root_dir,\"train2014\")\n",
        "tfrecords_dir =os.path.join(root_dir,\"tfrecords\")\n",
        "annotation_file=os.path.join(annotations_dir,\"captions_train2014.json\")\n",
        "\n",
        "\n",
        "#Download images file\n",
        "\n",
        "if not os.path.exists(images_dir):\n",
        "  images_zip=tf.keras.utils.get_file(\n",
        "      \"train2014.zip\",\n",
        "      cache_dir=os.path.abspath(\".\"),\n",
        "      origin=\"http://images.cocodataset.org/zips/train2014.zip\",\n",
        "      extract=True\n",
        "                                 )\n",
        "  os.remove(images_zip)\n",
        "\n",
        "\n",
        "#Download captions\n",
        "if not os.path.exists(annotations_dir):\n",
        "  annotationszip=tf.keras.utils.get_file(\n",
        "      \"captions.zip\",\n",
        "       cache_dir=os.path.abspath(\".\"),\n",
        "       origin=\"http://images.cocodataset.org/annotations/annotations_trainval2014.zip\",\n",
        "       extract=True\n",
        "                     )\n",
        "  os.remove(annotationszip)\n",
        "\n",
        "print(\"Datasets Downloaded Sucessfully\")\n",
        "\n",
        "with open(annotation_file, \"r\") as f:\n",
        "  annotations=json.load(f)[\"annotations\"]\n",
        "\n",
        "image_path_to_caption= collections.defaultdict(list)\n",
        "for element in annotations:\n",
        "  caption=f\"{element['caption'].lower().rstrip('.')}\"\n",
        "  image_path=images_dir+\"/COCO_train2014_\" + \"%012d.jpg\"%(element[\"image_id\"])\n",
        "  image_path_to_caption[image_path].append(caption)\n",
        "\n",
        "image_paths=list(image_path_to_caption.keys())\n",
        "print(f\"Number of images: {len(image_paths)}\")\n",
        "\n",
        "\n"
      ],
      "execution_count": null,
      "outputs": [
        {
          "output_type": "stream",
          "text": [
            "Downloading data from http://images.cocodataset.org/zips/train2014.zip\n",
            "13510574080/13510573713 [==============================] - 310s 0us/step\n",
            "Datasets Downloaded Sucessfully\n",
            "Number of images: 82783\n"
          ],
          "name": "stdout"
        }
      ]
    },
    {
      "cell_type": "markdown",
      "metadata": {
        "id": "0CC4NIp59Z2o"
      },
      "source": [
        ""
      ]
    },
    {
      "cell_type": "code",
      "metadata": {
        "id": "HgpqZJ329aGl",
        "colab": {
          "base_uri": "https://localhost:8080/"
        },
        "outputId": "f7515aba-4f4e-412a-c169-8a7f4a61f67c"
      },
      "source": [
        "train_size=40000\n",
        "valid_size=5000\n",
        "captions_per_image=2\n",
        "images_per_file=2000\n",
        "\n",
        "train_image_paths=image_paths[:train_size]\n",
        "num_train_files=int(np.ceil(train_size / images_per_file))\n",
        "train_files_prefix = os.path.join(tfrecords_dir,\"train\")\n",
        "\n",
        "valid_image_paths=image_paths[-valid_size:]\n",
        "num_valid_files=int(np.ceil(valid_size / images_per_file))\n",
        "valid_files_prefix = os.path.join(tfrecords_dir, \"valid\")\n",
        "\n",
        "tf.io.gfile.makedirs(tfrecords_dir)\n",
        "\n",
        "\n",
        "def bytes_feature(value):\n",
        "  return tf.train.Feature(bytes_list=tf.train.BytesList(value=[value]))\n",
        "\n",
        "def create_example(image_path,caption):\n",
        "  feature ={\n",
        "      \"caption\": bytes_feature(caption.encode()),\n",
        "      \"raw_image\": bytes_feature(tf.io.read_file(image_path).numpy()),\n",
        "\n",
        "  }\n",
        "\n",
        "  return tf.train.Example(features=tf.train.Features(feature=feature))\n",
        "\n",
        "\n",
        "def write_tfrecords(file_name,image_paths):\n",
        "  caption_list=[]\n",
        "  image_path_list=[]\n",
        "  for image_path in image_paths:\n",
        "    captions=image_path_to_caption[image_path][:captions_per_image]\n",
        "    caption_list.extend(captions)\n",
        "    image_path_list.extend([image_path]*len(captions))    \n",
        "\n",
        "  with tf.io.TFRecordWriter(file_name) as writer:\n",
        "    for example_idx in range(len(image_path_list)):\n",
        "      example=create_example(\n",
        "          image_path_list[example_idx],\n",
        "          caption_list[example_idx] )  \n",
        "      writer.write(example.SerializeToString())\n",
        "  return example_idx +1         \n",
        "  \n",
        "def write_data(image_paths, num_files, files_prefix):\n",
        "    example_counter = 0\n",
        "    for file_idx in tqdm(range(num_files)):\n",
        "        file_name = files_prefix + \"-%02d.tfrecord\" % (file_idx)\n",
        "        start_idx = images_per_file * file_idx\n",
        "        end_idx = start_idx + images_per_file\n",
        "        example_counter += write_tfrecords(file_name, image_paths[start_idx:end_idx])\n",
        "    return example_counter\n",
        "\n",
        "train_example_count = write_data(train_image_paths, num_train_files, train_files_prefix)\n",
        "print(f\"{train_example_count} training examples were written to tfrecord files.\")\n",
        "\n",
        "valid_example_count = write_data(valid_image_paths, num_valid_files, valid_files_prefix)\n",
        "print(f\"{valid_example_count} evaluation examples were written to tfrecord files.\")\n"
      ],
      "execution_count": null,
      "outputs": [
        {
          "output_type": "stream",
          "text": [
            "100%|██████████| 20/20 [05:16<00:00, 15.81s/it]\n",
            "  0%|          | 0/3 [00:00<?, ?it/s]"
          ],
          "name": "stderr"
        },
        {
          "output_type": "stream",
          "text": [
            "80000 training examples were written to tfrecord files.\n"
          ],
          "name": "stdout"
        },
        {
          "output_type": "stream",
          "text": [
            "100%|██████████| 3/3 [00:41<00:00, 13.69s/it]"
          ],
          "name": "stderr"
        },
        {
          "output_type": "stream",
          "text": [
            "10000 evaluation examples were written to tfrecord files.\n"
          ],
          "name": "stdout"
        },
        {
          "output_type": "stream",
          "text": [
            "\n"
          ],
          "name": "stderr"
        }
      ]
    },
    {
      "cell_type": "markdown",
      "metadata": {
        "id": "rdUZJ8U7i5ix"
      },
      "source": [
        ""
      ]
    },
    {
      "cell_type": "code",
      "metadata": {
        "id": "Li3xiQdXi5vc"
      },
      "source": [
        "feature_description = {\n",
        "    \"caption\":tf.io.FixedLenFeature([],tf.string),\n",
        "    \"raw_image\":tf.io.FixedLenFeature([],tf.string),\n",
        "}\n",
        "\n",
        "def read_example(example):\n",
        "    features = tf.io.parse_single_example(example,feature_description)\n",
        "    raw_image =features.pop(\"raw_image\")\n",
        "    features[\"image\"] =tf.image.resize(tf.image.decode_jpeg(raw_image,channels=3),size=(299,299))\n",
        "    return features\n",
        "\n",
        "\n",
        "def get_dataset(file_pattern,batch_size):\n",
        "\n",
        "  return (tf.data.TFRecordDataset(tf.data.Dataset.list_files(file_pattern))\n",
        "        .map(\n",
        "            read_example,\n",
        "            num_parallel_calls=tf.data.experimental.AUTOTUNE,\n",
        "            deterministic=False,\n",
        "        )\n",
        "        .shuffle(batch_size*10)\n",
        "        .prefetch(buffer_size=tf.data.experimental.AUTOTUNE)\n",
        "        .batch(batch_size)\n",
        "        )\n",
        "\n",
        "\n",
        "\n",
        "\n",
        "\n",
        "\n",
        "\n",
        "\n",
        "\n",
        "\n",
        "\n",
        "\n",
        "\n"
      ],
      "execution_count": null,
      "outputs": []
    },
    {
      "cell_type": "markdown",
      "metadata": {
        "id": "9swW2j3KppNP"
      },
      "source": [
        ""
      ]
    },
    {
      "cell_type": "code",
      "metadata": {
        "id": "l7RsDP6-ppav"
      },
      "source": [
        "def project_embeddings(\n",
        "    embeddings,num_projection_layers,projection_dims,dropout_rate\n",
        "):\n",
        "    projected_embeddings=layers.Dense(units=projection_dims)(embeddings)\n",
        "    for i in range(num_projection_layers):\n",
        "      x = tf.nn.gelu(projected_embeddings)\n",
        "      x = layers.Dense(projection_dims)(x)\n",
        "      x = layers.Dropout(dropout_rate)(x)\n",
        "      x = layers.Add()([projected_embeddings,x])\n",
        "      projected_embeddings = layers.LayerNormalization()(x)\n",
        "    return projected_embeddings"
      ],
      "execution_count": null,
      "outputs": []
    },
    {
      "cell_type": "markdown",
      "metadata": {
        "id": "09PUWnrC0q72"
      },
      "source": [
        ""
      ]
    },
    {
      "cell_type": "code",
      "metadata": {
        "id": "p7_yksWc0rHH"
      },
      "source": [
        "def create_vision_encoder(\n",
        "    num_projection_layers,projection_dims, dropout_rate ,trainable=False\n",
        "):\n",
        "\n",
        "   xception=keras.applications.Xception(\n",
        "       include_top=False, weights=\"imagenet\",pooling=\"avg\"\n",
        "   )\n",
        "   \n",
        "   for layer in xception.layers:\n",
        "     layer.trainable = trainable\n",
        "      \n",
        "   inputs =layers.Input(shape=(299,299,3), name=\"image_input\")\n",
        "\n",
        "   xception_input =tf.keras.applications.xception.preprocess_input(inputs)\n",
        "\n",
        "   embeddings = xception(xception_input)\n",
        "\n",
        "   outputs =project_embeddings(\n",
        "        embeddings,num_projection_layers, projection_dims,dropout_rate\n",
        "    )\n",
        "\n",
        "   return keras.Model(inputs,outputs,name=\"vision_encoder\")\n",
        "\n",
        "\n",
        "\n",
        "\n",
        "\n",
        "\n",
        "\n",
        "\n",
        "\n",
        "\n",
        "\n"
      ],
      "execution_count": null,
      "outputs": []
    },
    {
      "cell_type": "markdown",
      "metadata": {
        "id": "esjK71QNEr8y"
      },
      "source": [
        ""
      ]
    },
    {
      "cell_type": "code",
      "metadata": {
        "id": "yf7dhUweEwW9"
      },
      "source": [
        "def create_text_encoder(\n",
        "    num_projection_layers,projection_dims,dropout_rate,trainable=False\n",
        "):\n",
        "     preprocess=hub.KerasLayer(\n",
        "         \"https://tfhub.dev/tensorflow/bert_en_uncased_preprocess/3\",\n",
        "         name=\"text_preprocessing\",\n",
        "     )\n",
        "\n",
        "     bert = hub.KerasLayer(\n",
        "         \"https://tfhub.dev/tensorflow/small_bert/bert_en_uncased_L-4_H-512_A-8/1\",\n",
        "         \"bert\",\n",
        "     )\n",
        "\n",
        "     bert.trainable =trainable\n",
        "\n",
        "     inputs=layers.Input(shape=(),dtype=tf.string,name=\"text_input\")\n",
        "\n",
        "     bert_inputs =preprocess(inputs)\n",
        "\n",
        "     embeddings =bert(bert_inputs)[\"pooled_output\"]\n",
        "\n",
        "     outputs =project_embeddings(\n",
        "         embeddings,num_projection_layers,projection_dims,dropout_rate\n",
        "         )\n",
        "     \n",
        "     return keras.Model(inputs,outputs,name=\"text_encoder\")\n",
        "\n",
        "     \n",
        "  "
      ],
      "execution_count": null,
      "outputs": []
    },
    {
      "cell_type": "markdown",
      "metadata": {
        "id": "kigDbrf2aNDn"
      },
      "source": [
        ""
      ]
    },
    {
      "cell_type": "code",
      "metadata": {
        "id": "IPoKfpGcaNL3"
      },
      "source": [
        "class DualEncoder(keras.Model):\n",
        "   def __init__(self,text_encoder,image_encoder,temperature=1.0,**kwargs):\n",
        "     super(DualEncoder,self).__init__(**kwargs)\n",
        "     self.text_encoder=text_encoder\n",
        "     self.image_encoder=image_encoder\n",
        "     self.temperature =temperature\n",
        "     self.loss_tracker=keras.metrics.Mean(name=\"loss\")\n",
        "\n",
        "\n",
        "   @property\n",
        "   def metrics(self):\n",
        "       return [self.loss_tracker]\n",
        "\n",
        "   def call(self, features ,training=False):\n",
        "       with tf.device(\"/gpu:0\"):\n",
        "         caption_embeddings=text_encoder(features[\"caption\"],training = training)\n",
        "       \n",
        "       with tf.device(\"/gpu:0\"):\n",
        "         image_embeddings =vision_encoder(features[\"image\"],training=training)\n",
        "        \n",
        "       return caption_embeddings,image_embeddings\n",
        "\n",
        "   def compute_loss(self,caption_embeddings,image_embeddings):\n",
        "        \n",
        "        logits=(\n",
        "            tf.matmul(caption_embeddings,image_embeddings,transpose_b=True)\n",
        "        )\n",
        "\n",
        "        images_similarity=tf.matmul(image_embeddings,image_embeddings,transpose_b=True\n",
        "            \n",
        "        )\n",
        "        caption_similarity=tf.matmul(caption_embeddings,caption_embeddings,transpose_b=True)\n",
        "\n",
        "        targets=keras.activations.softmax((caption_similarity+images_similarity)/(2*self.temperature))\n",
        "\n",
        "        captions_loss= keras.losses.categorical_crossentropy(y_true=targets,y_pred=logits,from_logits=True)        \n",
        "  \n",
        "        images_loss=keras.losses.categorical_crossentropy(y_true=tf.transpose(targets),y_pred=tf.transpose(logits),from_logits=True)\n",
        "         \n",
        "        return (captions_loss+images_loss)/2\n",
        "\n",
        "   def train_step(self,features):\n",
        "       with tf.GradientTape() as tape:\n",
        "         caption_embeddings,image_embeddings = self(features,training=True)\n",
        "         loss=self.compute_loss(caption_embeddings,image_embeddings)\n",
        "       \n",
        "       gradients=tape.gradient(loss,self.trainable_variables)\n",
        "       self.optimizer.apply_gradients(zip(gradients,self.trainable_variables))\n",
        "\n",
        "       self.loss_tracker.update_state(loss)\n",
        "\n",
        "       return {\"loss\":self.loss_tracker.result()}\n",
        "\n",
        "   def test_step(self,features):\n",
        "        caption_embeddings,image_embeddings=self(features,training=False) \n",
        "        loss=self.compute_loss(caption_embeddings,image_embeddings)\n",
        "        self.loss_tracker.update_state(loss)\n",
        "        return {\"loss\":self.loss_tracker.result()}\n",
        "\n"
      ],
      "execution_count": null,
      "outputs": []
    },
    {
      "cell_type": "markdown",
      "metadata": {
        "id": "5mHWxqsjouDP"
      },
      "source": [
        ""
      ]
    },
    {
      "cell_type": "markdown",
      "metadata": {
        "id": "VSaUh5ryqQXA"
      },
      "source": [
        ""
      ]
    },
    {
      "cell_type": "code",
      "metadata": {
        "id": "qMilcOvNvLeH",
        "colab": {
          "base_uri": "https://localhost:8080/"
        },
        "outputId": "52e32cf2-70f6-4320-fc6f-6cb7d21299f0"
      },
      "source": [
        "num_epochs=14\n",
        "batch_size=256\n",
        "\n",
        "vision_encoder =create_vision_encoder(\n",
        "    num_projection_layers=1,projection_dims=256,dropout_rate=0.1\n",
        ")\n",
        "\n",
        "text_encoder=create_text_encoder(\n",
        "    num_projection_layers=1,projection_dims=256,dropout_rate=0.1\n",
        ")\n",
        "\n",
        "dual_encoder=DualEncoder(text_encoder,vision_encoder,temperature=0.05)\n",
        "\n",
        "dual_encoder.compile(\n",
        "    optimizer=tfa.optimizers.AdamW(learning_rate=0.008,weight_decay=0.001)\n",
        ")"
      ],
      "execution_count": null,
      "outputs": [
        {
          "output_type": "stream",
          "text": [
            "Downloading data from https://storage.googleapis.com/tensorflow/keras-applications/xception/xception_weights_tf_dim_ordering_tf_kernels_notop.h5\n",
            "83689472/83683744 [==============================] - 0s 0us/step\n"
          ],
          "name": "stdout"
        }
      ]
    },
    {
      "cell_type": "code",
      "metadata": {
        "colab": {
          "base_uri": "https://localhost:8080/"
        },
        "id": "5lLtI7JBvVqh",
        "outputId": "fca832ff-b676-4a1f-ffac-3b6990174fc3"
      },
      "source": [
        "print(f\"Number of GPUs:{len(tf.config.list_physical_devices('GPU'))}\")\n",
        "print(f\"Number of examples (caption-image pairs):{train_example_count}\")\n",
        "print(f\"Batch size:{batch_size}\")\n",
        "print(f\"Steps per epoch:{int(np.ceil(train_example_count/batch_size))}\")\n",
        "\n",
        "train_dataset = get_dataset(os.path.join(tfrecords_dir,\"train-*.tfrecord\"),batch_size)\n",
        "valid_dataset = get_dataset(os.path.join(tfrecords_dir,\"valid-*.tfrecord\"),batch_size)\n",
        "\n",
        "reduce_lr=keras.callbacks.ReduceLROnPlateau(\n",
        "    monitor=\"val_loss\",factor=0.2,patience=3\n",
        ")\n",
        "\n",
        "early_stopping=tf.keras.callbacks.EarlyStopping(\n",
        "    monitor=\"val_loss\",patience=5,restore_best_weights=True\n",
        ")\n",
        "\n",
        "history=dual_encoder.fit(train_dataset,\n",
        "                         epochs=num_epochs,\n",
        "                         validation_data=valid_dataset,\n",
        "                         callbacks=[reduce_lr,early_stopping],\n",
        "                         )\n",
        "\n",
        "print(\"Training Completed.Saving vision and text encoders...\")\n",
        "\n",
        "vision_encoder.save(\"vision_encoder\")\n",
        "text_encoder.save(\"text_encoder\")\n",
        "print(\"models are saved\")\n"
      ],
      "execution_count": null,
      "outputs": [
        {
          "output_type": "stream",
          "text": [
            "Number of GPUs:1\n",
            "Number of examples (caption-image pairs):80000\n",
            "Batch size:256\n",
            "Steps per epoch:313\n",
            "Epoch 1/14\n",
            "313/313 [==============================] - 1611s 5s/step - loss: 6.0138 - val_loss: 5.3356\n",
            "Epoch 2/14\n",
            "313/313 [==============================] - 1588s 5s/step - loss: 4.2459 - val_loss: 4.7084\n",
            "Epoch 3/14\n",
            "313/313 [==============================] - 1596s 5s/step - loss: 3.0900 - val_loss: 3.8823\n",
            "Epoch 4/14\n",
            "313/313 [==============================] - 1557s 5s/step - loss: 2.7397 - val_loss: 3.6749\n",
            "Epoch 5/14\n",
            "313/313 [==============================] - 1561s 5s/step - loss: 2.6056 - val_loss: 3.7301\n",
            "Epoch 6/14\n",
            "313/313 [==============================] - 1563s 5s/step - loss: 2.5168 - val_loss: 3.7737\n",
            "Epoch 7/14\n",
            "313/313 [==============================] - 1544s 5s/step - loss: 2.4506 - val_loss: 3.7461\n",
            "Epoch 8/14\n",
            "313/313 [==============================] - 1536s 5s/step - loss: 2.1070 - val_loss: 3.5905\n",
            "Epoch 9/14\n",
            "313/313 [==============================] - 1533s 5s/step - loss: 2.0825 - val_loss: 3.6230\n",
            "Epoch 10/14\n",
            "313/313 [==============================] - 1539s 5s/step - loss: 2.1207 - val_loss: 3.6187\n",
            "Epoch 11/14\n",
            "313/313 [==============================] - 1538s 5s/step - loss: 2.1085 - val_loss: 3.6820\n",
            "Epoch 12/14\n",
            "313/313 [==============================] - 1536s 5s/step - loss: 1.9589 - val_loss: 3.5098\n",
            "Epoch 13/14\n",
            "313/313 [==============================] - 1536s 5s/step - loss: 1.9989 - val_loss: 3.5169\n",
            "Epoch 14/14\n",
            "313/313 [==============================] - 1529s 5s/step - loss: 2.1348 - val_loss: 3.5330\n",
            "Training Completed.Saving vision and text encoders...\n",
            "INFO:tensorflow:Assets written to: vision_encoder/assets\n"
          ],
          "name": "stdout"
        },
        {
          "output_type": "stream",
          "text": [
            "INFO:tensorflow:Assets written to: vision_encoder/assets\n",
            "WARNING:absl:Found untraced functions such as restored_function_body, restored_function_body, restored_function_body, restored_function_body, restored_function_body while saving (showing 5 of 310). These functions will not be directly callable after loading.\n",
            "WARNING:absl:Found untraced functions such as restored_function_body, restored_function_body, restored_function_body, restored_function_body, restored_function_body while saving (showing 5 of 310). These functions will not be directly callable after loading.\n"
          ],
          "name": "stderr"
        },
        {
          "output_type": "stream",
          "text": [
            "INFO:tensorflow:Assets written to: text_encoder/assets\n"
          ],
          "name": "stdout"
        },
        {
          "output_type": "stream",
          "text": [
            "INFO:tensorflow:Assets written to: text_encoder/assets\n"
          ],
          "name": "stderr"
        },
        {
          "output_type": "stream",
          "text": [
            "models are saved\n"
          ],
          "name": "stdout"
        }
      ]
    },
    {
      "cell_type": "code",
      "metadata": {
        "id": "V1oLFpkeoy8a",
        "colab": {
          "base_uri": "https://localhost:8080/",
          "height": 279
        },
        "outputId": "8dc3dc58-b0ac-45e5-aa5c-58d0aca9b9f3"
      },
      "source": [
        "plt.plot(history.history[\"loss\"])\n",
        "plt.plot(history.history[\"val_loss\"])\n",
        "plt.ylabel(\"Loss\")\n",
        "plt.xlabel(\"Epoch\")\n",
        "plt.legend([\"train\", \"valid\"], loc=\"upper right\")\n",
        "plt.show()"
      ],
      "execution_count": null,
      "outputs": [
        {
          "output_type": "display_data",
          "data": {
            "image/png": "[encoded data removed]",
            "text/plain": [
              "<Figure size 432x288 with 1 Axes>"
            ]
          },
          "metadata": {
            "tags": [],
            "needs_background": "light"
          }
        }
      ]
    },
    {
      "cell_type": "code",
      "metadata": {
        "id": "fnt_mgwivetG"
      },
      "source": [
        "cp -r vision_encoder /content/gdrive/MyDrive/Vision_encoder4"
      ],
      "execution_count": null,
      "outputs": []
    },
    {
      "cell_type": "code",
      "metadata": {
        "id": "0Jqvqmm6vc-x"
      },
      "source": [
        "cp -r text_encoder /content/gdrive/MyDrive/text_encoder4"
      ],
      "execution_count": null,
      "outputs": []
    }
  ]
}